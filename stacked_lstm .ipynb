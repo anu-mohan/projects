{
  "nbformat": 4,
  "nbformat_minor": 0,
  "metadata": {
    "kernelspec": {
      "display_name": "Python 3",
      "language": "python",
      "name": "python3"
    },
    "language_info": {
      "codemirror_mode": {
        "name": "ipython",
        "version": 3
      },
      "file_extension": ".py",
      "mimetype": "text/x-python",
      "name": "python",
      "nbconvert_exporter": "python",
      "pygments_lexer": "ipython3",
      "version": "3.6.9"
    },
    "colab": {
      "name": "stacked_lstm.ipynb",
      "provenance": [],
      "collapsed_sections": []
    }
  },
  "cells": [
    {
      "cell_type": "markdown",
      "metadata": {
        "id": "ECjl2GLctzIe"
      },
      "source": [
        "### Stock Market Prediction And Forecasting Using Stacked LSTM"
      ]
    },
    {
      "cell_type": "code",
      "metadata": {
        "colab": {
          "base_uri": "https://localhost:8080/"
        },
        "id": "J7-y3gnBtzIl",
        "outputId": "5e456f74-4168-4859-f87a-c92f94772140"
      },
      "source": [
        "### Data Collection\n",
        "!pip install yfinance"
      ],
      "execution_count": null,
      "outputs": [
        {
          "output_type": "stream",
          "name": "stdout",
          "text": [
            "Collecting yfinance\n",
            "  Downloading yfinance-0.1.64.tar.gz (26 kB)\n",
            "Requirement already satisfied: pandas>=0.24 in /usr/local/lib/python3.7/dist-packages (from yfinance) (1.1.5)\n",
            "Requirement already satisfied: numpy>=1.15 in /usr/local/lib/python3.7/dist-packages (from yfinance) (1.19.5)\n",
            "Requirement already satisfied: requests>=2.20 in /usr/local/lib/python3.7/dist-packages (from yfinance) (2.23.0)\n",
            "Requirement already satisfied: multitasking>=0.0.7 in /usr/local/lib/python3.7/dist-packages (from yfinance) (0.0.9)\n",
            "Collecting lxml>=4.5.1\n",
            "  Downloading lxml-4.6.4-cp37-cp37m-manylinux_2_17_x86_64.manylinux2014_x86_64.manylinux_2_24_x86_64.whl (6.3 MB)\n",
            "\u001b[K     |████████████████████████████████| 6.3 MB 8.0 MB/s \n",
            "\u001b[?25hRequirement already satisfied: python-dateutil>=2.7.3 in /usr/local/lib/python3.7/dist-packages (from pandas>=0.24->yfinance) (2.8.2)\n",
            "Requirement already satisfied: pytz>=2017.2 in /usr/local/lib/python3.7/dist-packages (from pandas>=0.24->yfinance) (2018.9)\n",
            "Requirement already satisfied: six>=1.5 in /usr/local/lib/python3.7/dist-packages (from python-dateutil>=2.7.3->pandas>=0.24->yfinance) (1.15.0)\n",
            "Requirement already satisfied: idna<3,>=2.5 in /usr/local/lib/python3.7/dist-packages (from requests>=2.20->yfinance) (2.10)\n",
            "Requirement already satisfied: certifi>=2017.4.17 in /usr/local/lib/python3.7/dist-packages (from requests>=2.20->yfinance) (2021.10.8)\n",
            "Requirement already satisfied: chardet<4,>=3.0.2 in /usr/local/lib/python3.7/dist-packages (from requests>=2.20->yfinance) (3.0.4)\n",
            "Requirement already satisfied: urllib3!=1.25.0,!=1.25.1,<1.26,>=1.21.1 in /usr/local/lib/python3.7/dist-packages (from requests>=2.20->yfinance) (1.24.3)\n",
            "Building wheels for collected packages: yfinance\n",
            "  Building wheel for yfinance (setup.py) ... \u001b[?25l\u001b[?25hdone\n",
            "  Created wheel for yfinance: filename=yfinance-0.1.64-py2.py3-none-any.whl size=24109 sha256=d26d081685d10cd0d48141e686768cc4103b9123d192c67ab7dbdbe11921a923\n",
            "  Stored in directory: /root/.cache/pip/wheels/86/fe/9b/a4d3d78796b699e37065e5b6c27b75cff448ddb8b24943c288\n",
            "Successfully built yfinance\n",
            "Installing collected packages: lxml, yfinance\n",
            "  Attempting uninstall: lxml\n",
            "    Found existing installation: lxml 4.2.6\n",
            "    Uninstalling lxml-4.2.6:\n",
            "      Successfully uninstalled lxml-4.2.6\n",
            "Successfully installed lxml-4.6.4 yfinance-0.1.64\n"
          ]
        }
      ]
    },
    {
      "cell_type": "code",
      "metadata": {
        "id": "gdxi4r_juKl5"
      },
      "source": [
        "import yfinance as yf\n",
        "import pandas as pd\n",
        "from sklearn.preprocessing import MinMaxScaler\n",
        "import numpy as np\n",
        "import tensorflow as tf\n",
        "from tensorflow.keras.models import load_model\n",
        "### Create the Stacked LSTM model\n",
        "from tensorflow.keras.models import Sequential\n",
        "from tensorflow.keras.layers import Dense\n",
        "from tensorflow.keras.layers import LSTM\n",
        "### Calculate RMSE performance metrics\n",
        "import math\n",
        "from sklearn.metrics import mean_squared_error"
      ],
      "execution_count": null,
      "outputs": []
    },
    {
      "cell_type": "code",
      "metadata": {
        "id": "4b3bg0hitzIl"
      },
      "source": [
        "stock_name = 'TATASTEEL.NS'\n",
        "stock = yf.Ticker(stock_name)\n",
        "df = stock.history(period='5y')"
      ],
      "execution_count": null,
      "outputs": []
    },
    {
      "cell_type": "code",
      "metadata": {
        "colab": {
          "base_uri": "https://localhost:8080/",
          "height": 450
        },
        "id": "AQvrMhyUtzIm",
        "outputId": "6032948c-3350-495a-de1a-ccd8d6496d7d"
      },
      "source": [
        "df "
      ],
      "execution_count": null,
      "outputs": [
        {
          "output_type": "execute_result",
          "data": {
            "text/html": [
              "<div>\n",
              "<style scoped>\n",
              "    .dataframe tbody tr th:only-of-type {\n",
              "        vertical-align: middle;\n",
              "    }\n",
              "\n",
              "    .dataframe tbody tr th {\n",
              "        vertical-align: top;\n",
              "    }\n",
              "\n",
              "    .dataframe thead th {\n",
              "        text-align: right;\n",
              "    }\n",
              "</style>\n",
              "<table border=\"1\" class=\"dataframe\">\n",
              "  <thead>\n",
              "    <tr style=\"text-align: right;\">\n",
              "      <th></th>\n",
              "      <th>Open</th>\n",
              "      <th>High</th>\n",
              "      <th>Low</th>\n",
              "      <th>Close</th>\n",
              "      <th>Volume</th>\n",
              "      <th>Dividends</th>\n",
              "      <th>Stock Splits</th>\n",
              "    </tr>\n",
              "    <tr>\n",
              "      <th>Date</th>\n",
              "      <th></th>\n",
              "      <th></th>\n",
              "      <th></th>\n",
              "      <th></th>\n",
              "      <th></th>\n",
              "      <th></th>\n",
              "      <th></th>\n",
              "    </tr>\n",
              "  </thead>\n",
              "  <tbody>\n",
              "    <tr>\n",
              "      <th>2016-11-11</th>\n",
              "      <td>369.559371</td>\n",
              "      <td>377.249638</td>\n",
              "      <td>362.296349</td>\n",
              "      <td>364.432526</td>\n",
              "      <td>9166446</td>\n",
              "      <td>0.0</td>\n",
              "      <td>0</td>\n",
              "    </tr>\n",
              "    <tr>\n",
              "      <th>2016-11-15</th>\n",
              "      <td>351.615435</td>\n",
              "      <td>357.169526</td>\n",
              "      <td>334.098751</td>\n",
              "      <td>335.850433</td>\n",
              "      <td>9712565</td>\n",
              "      <td>0.0</td>\n",
              "      <td>0</td>\n",
              "    </tr>\n",
              "    <tr>\n",
              "      <th>2016-11-16</th>\n",
              "      <td>339.225627</td>\n",
              "      <td>342.985312</td>\n",
              "      <td>325.425902</td>\n",
              "      <td>335.594116</td>\n",
              "      <td>8639027</td>\n",
              "      <td>0.0</td>\n",
              "      <td>0</td>\n",
              "    </tr>\n",
              "    <tr>\n",
              "      <th>2016-11-17</th>\n",
              "      <td>336.234958</td>\n",
              "      <td>340.592788</td>\n",
              "      <td>330.680894</td>\n",
              "      <td>335.594116</td>\n",
              "      <td>4578141</td>\n",
              "      <td>0.0</td>\n",
              "      <td>0</td>\n",
              "    </tr>\n",
              "    <tr>\n",
              "      <th>2016-11-18</th>\n",
              "      <td>333.286998</td>\n",
              "      <td>352.384464</td>\n",
              "      <td>325.767629</td>\n",
              "      <td>329.057343</td>\n",
              "      <td>4891327</td>\n",
              "      <td>0.0</td>\n",
              "      <td>0</td>\n",
              "    </tr>\n",
              "    <tr>\n",
              "      <th>...</th>\n",
              "      <td>...</td>\n",
              "      <td>...</td>\n",
              "      <td>...</td>\n",
              "      <td>...</td>\n",
              "      <td>...</td>\n",
              "      <td>...</td>\n",
              "      <td>...</td>\n",
              "    </tr>\n",
              "    <tr>\n",
              "      <th>2021-11-04</th>\n",
              "      <td>1331.000000</td>\n",
              "      <td>1335.000000</td>\n",
              "      <td>1324.099976</td>\n",
              "      <td>1325.900024</td>\n",
              "      <td>674434</td>\n",
              "      <td>0.0</td>\n",
              "      <td>0</td>\n",
              "    </tr>\n",
              "    <tr>\n",
              "      <th>2021-11-08</th>\n",
              "      <td>1340.900024</td>\n",
              "      <td>1347.650024</td>\n",
              "      <td>1306.099976</td>\n",
              "      <td>1343.250000</td>\n",
              "      <td>5493667</td>\n",
              "      <td>0.0</td>\n",
              "      <td>0</td>\n",
              "    </tr>\n",
              "    <tr>\n",
              "      <th>2021-11-09</th>\n",
              "      <td>1342.849976</td>\n",
              "      <td>1360.300049</td>\n",
              "      <td>1328.849976</td>\n",
              "      <td>1335.949951</td>\n",
              "      <td>4756516</td>\n",
              "      <td>0.0</td>\n",
              "      <td>0</td>\n",
              "    </tr>\n",
              "    <tr>\n",
              "      <th>2021-11-10</th>\n",
              "      <td>1328.000000</td>\n",
              "      <td>1329.000000</td>\n",
              "      <td>1287.099976</td>\n",
              "      <td>1298.550049</td>\n",
              "      <td>11880417</td>\n",
              "      <td>0.0</td>\n",
              "      <td>0</td>\n",
              "    </tr>\n",
              "    <tr>\n",
              "      <th>2021-11-11</th>\n",
              "      <td>1304.900024</td>\n",
              "      <td>1324.500000</td>\n",
              "      <td>1297.099976</td>\n",
              "      <td>1303.300049</td>\n",
              "      <td>10285883</td>\n",
              "      <td>0.0</td>\n",
              "      <td>0</td>\n",
              "    </tr>\n",
              "  </tbody>\n",
              "</table>\n",
              "<p>1234 rows × 7 columns</p>\n",
              "</div>"
            ],
            "text/plain": [
              "                   Open         High  ...  Dividends  Stock Splits\n",
              "Date                                  ...                         \n",
              "2016-11-11   369.559371   377.249638  ...        0.0             0\n",
              "2016-11-15   351.615435   357.169526  ...        0.0             0\n",
              "2016-11-16   339.225627   342.985312  ...        0.0             0\n",
              "2016-11-17   336.234958   340.592788  ...        0.0             0\n",
              "2016-11-18   333.286998   352.384464  ...        0.0             0\n",
              "...                 ...          ...  ...        ...           ...\n",
              "2021-11-04  1331.000000  1335.000000  ...        0.0             0\n",
              "2021-11-08  1340.900024  1347.650024  ...        0.0             0\n",
              "2021-11-09  1342.849976  1360.300049  ...        0.0             0\n",
              "2021-11-10  1328.000000  1329.000000  ...        0.0             0\n",
              "2021-11-11  1304.900024  1324.500000  ...        0.0             0\n",
              "\n",
              "[1234 rows x 7 columns]"
            ]
          },
          "metadata": {},
          "execution_count": 13
        }
      ]
    },
    {
      "cell_type": "code",
      "metadata": {
        "id": "GKLVxcBMtzIp"
      },
      "source": [
        "df1=df.reset_index()['Close']"
      ],
      "execution_count": null,
      "outputs": []
    },
    {
      "cell_type": "code",
      "metadata": {
        "colab": {
          "base_uri": "https://localhost:8080/"
        },
        "id": "-h3JPlcdhIGX",
        "outputId": "205f3d66-abab-49fa-ee29-584a04115fc8"
      },
      "source": [
        "df['Close'].describe()"
      ],
      "execution_count": null,
      "outputs": [
        {
          "output_type": "execute_result",
          "data": {
            "text/plain": [
              "count    1234.000000\n",
              "mean      562.073317\n",
              "std       275.692500\n",
              "min       241.925049\n",
              "25%       400.064026\n",
              "50%       481.765518\n",
              "75%       601.450790\n",
              "max      1519.400024\n",
              "Name: Close, dtype: float64"
            ]
          },
          "metadata": {},
          "execution_count": 15
        }
      ]
    },
    {
      "cell_type": "code",
      "metadata": {
        "colab": {
          "base_uri": "https://localhost:8080/",
          "height": 282
        },
        "id": "nGsXDYi2tzIq",
        "outputId": "cea0a878-b20b-46b5-ca7b-748e1427a163"
      },
      "source": [
        "import matplotlib.pyplot as plt\n",
        "plt.plot(df1)"
      ],
      "execution_count": null,
      "outputs": [
        {
          "output_type": "execute_result",
          "data": {
            "text/plain": [
              "[<matplotlib.lines.Line2D at 0x7f413d5ba110>]"
            ]
          },
          "metadata": {},
          "execution_count": 16
        },
        {
          "output_type": "display_data",
          "data": {
            "image/png": "[encoded data removed]",
            "text/plain": [
              "<Figure size 432x288 with 1 Axes>"
            ]
          },
          "metadata": {
            "needs_background": "light"
          }
        }
      ]
    },
    {
      "cell_type": "code",
      "metadata": {
        "id": "oVTTw6ertzIr"
      },
      "source": [
        ""
      ],
      "execution_count": null,
      "outputs": []
    },
    {
      "cell_type": "code",
      "metadata": {
        "id": "DM4kiEbMtzIr"
      },
      "source": [
        "scaler=MinMaxScaler(feature_range=(0,1))\n",
        "df1=scaler.fit_transform(np.array(df1).reshape(-1,1))"
      ],
      "execution_count": null,
      "outputs": []
    },
    {
      "cell_type": "code",
      "metadata": {
        "id": "x00FDykltzIs"
      },
      "source": [
        "##splitting dataset into train and test split\n",
        "training_size=int(len(df1)*0.60)\n",
        "test_size=len(df1)-training_size\n",
        "train_data,test_data=df1[0:training_size,:],df1[training_size:len(df1),:1]"
      ],
      "execution_count": null,
      "outputs": []
    },
    {
      "cell_type": "code",
      "metadata": {
        "colab": {
          "base_uri": "https://localhost:8080/"
        },
        "id": "1t8aqvAMtzIs",
        "outputId": "06dd961e-4663-44b0-c0f2-c8403350454a"
      },
      "source": [
        "training_size,test_size"
      ],
      "execution_count": null,
      "outputs": [
        {
          "output_type": "execute_result",
          "data": {
            "text/plain": [
              "(987, 247)"
            ]
          },
          "metadata": {},
          "execution_count": 20
        }
      ]
    },
    {
      "cell_type": "code",
      "metadata": {
        "id": "zzWywzuUtzIt"
      },
      "source": [
        ""
      ],
      "execution_count": null,
      "outputs": []
    },
    {
      "cell_type": "code",
      "metadata": {
        "id": "b8cwrzYItzIt"
      },
      "source": [
        "import numpy\n",
        "# convert an array of values into a dataset matrix\n",
        "def create_dataset(dataset, time_step=1):\n",
        "\tdataX, dataY = [], []\n",
        "\tfor i in range(len(dataset)-time_step-1):\n",
        "\t\ta = dataset[i:(i+time_step), 0]   ###i=0, 0,1,2,3-----99   100 \n",
        "\t\tdataX.append(a)\n",
        "\t\tdataY.append(dataset[i + time_step, 0])\n",
        "\treturn numpy.array(dataX), numpy.array(dataY)"
      ],
      "execution_count": null,
      "outputs": []
    },
    {
      "cell_type": "code",
      "metadata": {
        "id": "kh1Hd8_xtzIt"
      },
      "source": [
        "# reshape into X=t,t+1,t+2,t+3 and Y=t+4\n",
        "time_step = 100\n",
        "X_train, y_train = create_dataset(train_data, time_step)\n",
        "X_test, ytest = create_dataset(test_data, time_step)"
      ],
      "execution_count": null,
      "outputs": []
    },
    {
      "cell_type": "code",
      "metadata": {
        "id": "abg2UKOntzIu"
      },
      "source": [
        "# print(X_train.shape), print(y_train.shape)"
      ],
      "execution_count": null,
      "outputs": []
    },
    {
      "cell_type": "code",
      "metadata": {
        "id": "Mg5F5O4HtzIu"
      },
      "source": [
        "# print(X_test.shape), print(ytest.shape)"
      ],
      "execution_count": null,
      "outputs": []
    },
    {
      "cell_type": "code",
      "metadata": {
        "id": "hixbOsdptzIv"
      },
      "source": [
        "# reshape input to be [samples, time steps, features] which is required for LSTM\n",
        "X_train =X_train.reshape(X_train.shape[0],X_train.shape[1] , 1)\n",
        "X_test = X_test.reshape(X_test.shape[0],X_test.shape[1] , 1)"
      ],
      "execution_count": null,
      "outputs": []
    },
    {
      "cell_type": "code",
      "metadata": {
        "id": "4VP2ts6_tzIv"
      },
      "source": [
        "model=Sequential()\n",
        "model.add(LSTM(100,return_sequences=True,input_shape=(time_step,1)))\n",
        "model.add(LSTM(100,return_sequences=True))\n",
        "model.add(LSTM(50))\n",
        "model.add(Dense(1))\n",
        "model.compile(loss='mean_squared_error',optimizer='adam')\n"
      ],
      "execution_count": null,
      "outputs": []
    },
    {
      "cell_type": "code",
      "metadata": {
        "id": "LnXihd_itzIv"
      },
      "source": [
        "model.summary()"
      ],
      "execution_count": null,
      "outputs": []
    },
    {
      "cell_type": "code",
      "metadata": {
        "id": "06hTjtoItzIw"
      },
      "source": [
        "model.fit(X_train,y_train,validation_data=(X_test,ytest),epochs=130,batch_size=64,verbose=1)"
      ],
      "execution_count": null,
      "outputs": []
    },
    {
      "cell_type": "code",
      "metadata": {
        "id": "x2vWOgiFn4Zc"
      },
      "source": [
        "# model.save('ts_7030.h5')"
      ],
      "execution_count": null,
      "outputs": []
    },
    {
      "cell_type": "code",
      "metadata": {
        "id": "1_XDaEF5qDvi"
      },
      "source": [
        "# model = load_model('ts_7030.h5')"
      ],
      "execution_count": null,
      "outputs": []
    },
    {
      "cell_type": "code",
      "metadata": {
        "id": "Leqt7HFKtzIw"
      },
      "source": [
        " ### Lets Do the prediction and check performance metrics\n",
        "train_predict=model.predict(X_train)\n",
        "test_predict=model.predict(X_test)"
      ],
      "execution_count": null,
      "outputs": []
    },
    {
      "cell_type": "code",
      "metadata": {
        "id": "XPd3zUAztzIx"
      },
      "source": [
        "##Transformback to original form\n",
        "train_predict=scaler.inverse_transform(train_predict)\n",
        "test_predict=scaler.inverse_transform(test_predict)"
      ],
      "execution_count": null,
      "outputs": []
    },
    {
      "cell_type": "code",
      "metadata": {
        "colab": {
          "base_uri": "https://localhost:8080/",
          "height": 450
        },
        "id": "Agi-SsHQwLiP",
        "outputId": "ddd22212-a127-46b6-ef9c-879af5dd2a0a"
      },
      "source": [
        "a = df[['Close']][time_step+1:training_size]\n",
        "a['train_pred'] = train_predict\n",
        "a"
      ],
      "execution_count": null,
      "outputs": [
        {
          "output_type": "execute_result",
          "data": {
            "text/html": [
              "<div>\n",
              "<style scoped>\n",
              "    .dataframe tbody tr th:only-of-type {\n",
              "        vertical-align: middle;\n",
              "    }\n",
              "\n",
              "    .dataframe tbody tr th {\n",
              "        vertical-align: top;\n",
              "    }\n",
              "\n",
              "    .dataframe thead th {\n",
              "        text-align: right;\n",
              "    }\n",
              "</style>\n",
              "<table border=\"1\" class=\"dataframe\">\n",
              "  <thead>\n",
              "    <tr style=\"text-align: right;\">\n",
              "      <th></th>\n",
              "      <th>Close</th>\n",
              "      <th>train_pred</th>\n",
              "    </tr>\n",
              "    <tr>\n",
              "      <th>Date</th>\n",
              "      <th></th>\n",
              "      <th></th>\n",
              "    </tr>\n",
              "  </thead>\n",
              "  <tbody>\n",
              "    <tr>\n",
              "      <th>2017-04-10</th>\n",
              "      <td>423.262939</td>\n",
              "      <td>416.720764</td>\n",
              "    </tr>\n",
              "    <tr>\n",
              "      <th>2017-04-11</th>\n",
              "      <td>417.068085</td>\n",
              "      <td>418.769440</td>\n",
              "    </tr>\n",
              "    <tr>\n",
              "      <th>2017-04-12</th>\n",
              "      <td>407.925171</td>\n",
              "      <td>420.875427</td>\n",
              "    </tr>\n",
              "    <tr>\n",
              "      <th>2017-04-13</th>\n",
              "      <td>396.090759</td>\n",
              "      <td>422.043427</td>\n",
              "    </tr>\n",
              "    <tr>\n",
              "      <th>2017-04-17</th>\n",
              "      <td>395.108063</td>\n",
              "      <td>421.386566</td>\n",
              "    </tr>\n",
              "    <tr>\n",
              "      <th>...</th>\n",
              "      <td>...</td>\n",
              "      <td>...</td>\n",
              "    </tr>\n",
              "    <tr>\n",
              "      <th>2020-11-04</th>\n",
              "      <td>395.059204</td>\n",
              "      <td>405.737640</td>\n",
              "    </tr>\n",
              "    <tr>\n",
              "      <th>2020-11-05</th>\n",
              "      <td>416.186432</td>\n",
              "      <td>404.230011</td>\n",
              "    </tr>\n",
              "    <tr>\n",
              "      <th>2020-11-06</th>\n",
              "      <td>417.164520</td>\n",
              "      <td>402.472839</td>\n",
              "    </tr>\n",
              "    <tr>\n",
              "      <th>2020-11-09</th>\n",
              "      <td>428.706238</td>\n",
              "      <td>403.238831</td>\n",
              "    </tr>\n",
              "    <tr>\n",
              "      <th>2020-11-10</th>\n",
              "      <td>432.227448</td>\n",
              "      <td>405.635712</td>\n",
              "    </tr>\n",
              "  </tbody>\n",
              "</table>\n",
              "<p>886 rows × 2 columns</p>\n",
              "</div>"
            ],
            "text/plain": [
              "                 Close  train_pred\n",
              "Date                              \n",
              "2017-04-10  423.262939  416.720764\n",
              "2017-04-11  417.068085  418.769440\n",
              "2017-04-12  407.925171  420.875427\n",
              "2017-04-13  396.090759  422.043427\n",
              "2017-04-17  395.108063  421.386566\n",
              "...                ...         ...\n",
              "2020-11-04  395.059204  405.737640\n",
              "2020-11-05  416.186432  404.230011\n",
              "2020-11-06  417.164520  402.472839\n",
              "2020-11-09  428.706238  403.238831\n",
              "2020-11-10  432.227448  405.635712\n",
              "\n",
              "[886 rows x 2 columns]"
            ]
          },
          "metadata": {},
          "execution_count": 29
        }
      ]
    },
    {
      "cell_type": "code",
      "metadata": {
        "colab": {
          "base_uri": "https://localhost:8080/"
        },
        "id": "y0VclrgHv29t",
        "outputId": "2e675a2e-353c-48f8-cef9-82a24ea9f834"
      },
      "source": [
        "mean_squared_error(a['Close'],a['train_pred'],squared=False)"
      ],
      "execution_count": null,
      "outputs": [
        {
          "output_type": "execute_result",
          "data": {
            "text/plain": [
              "18.1306241960634"
            ]
          },
          "metadata": {},
          "execution_count": 30
        }
      ]
    },
    {
      "cell_type": "code",
      "metadata": {
        "colab": {
          "base_uri": "https://localhost:8080/",
          "height": 450
        },
        "id": "l6oHDFIfxYEA",
        "outputId": "8ce26ef1-22e0-4478-d04d-5bac8d42fef7"
      },
      "source": [
        "b = df[['Close']][training_size+time_step+1:]\n",
        "b['test_pred'] = test_predict\n",
        "b"
      ],
      "execution_count": null,
      "outputs": [
        {
          "output_type": "execute_result",
          "data": {
            "text/html": [
              "<div>\n",
              "<style scoped>\n",
              "    .dataframe tbody tr th:only-of-type {\n",
              "        vertical-align: middle;\n",
              "    }\n",
              "\n",
              "    .dataframe tbody tr th {\n",
              "        vertical-align: top;\n",
              "    }\n",
              "\n",
              "    .dataframe thead th {\n",
              "        text-align: right;\n",
              "    }\n",
              "</style>\n",
              "<table border=\"1\" class=\"dataframe\">\n",
              "  <thead>\n",
              "    <tr style=\"text-align: right;\">\n",
              "      <th></th>\n",
              "      <th>Close</th>\n",
              "      <th>test_pred</th>\n",
              "    </tr>\n",
              "    <tr>\n",
              "      <th>Date</th>\n",
              "      <th></th>\n",
              "      <th></th>\n",
              "    </tr>\n",
              "  </thead>\n",
              "  <tbody>\n",
              "    <tr>\n",
              "      <th>2021-04-12</th>\n",
              "      <td>832.910767</td>\n",
              "      <td>865.806152</td>\n",
              "    </tr>\n",
              "    <tr>\n",
              "      <th>2021-04-13</th>\n",
              "      <td>859.759949</td>\n",
              "      <td>883.628967</td>\n",
              "    </tr>\n",
              "    <tr>\n",
              "      <th>2021-04-15</th>\n",
              "      <td>878.539734</td>\n",
              "      <td>889.107300</td>\n",
              "    </tr>\n",
              "    <tr>\n",
              "      <th>2021-04-16</th>\n",
              "      <td>870.763733</td>\n",
              "      <td>889.974976</td>\n",
              "    </tr>\n",
              "    <tr>\n",
              "      <th>2021-04-19</th>\n",
              "      <td>868.611877</td>\n",
              "      <td>889.919983</td>\n",
              "    </tr>\n",
              "    <tr>\n",
              "      <th>...</th>\n",
              "      <td>...</td>\n",
              "      <td>...</td>\n",
              "    </tr>\n",
              "    <tr>\n",
              "      <th>2021-11-04</th>\n",
              "      <td>1325.900024</td>\n",
              "      <td>1310.982300</td>\n",
              "    </tr>\n",
              "    <tr>\n",
              "      <th>2021-11-08</th>\n",
              "      <td>1343.250000</td>\n",
              "      <td>1313.840454</td>\n",
              "    </tr>\n",
              "    <tr>\n",
              "      <th>2021-11-09</th>\n",
              "      <td>1335.949951</td>\n",
              "      <td>1316.783447</td>\n",
              "    </tr>\n",
              "    <tr>\n",
              "      <th>2021-11-10</th>\n",
              "      <td>1298.550049</td>\n",
              "      <td>1322.275146</td>\n",
              "    </tr>\n",
              "    <tr>\n",
              "      <th>2021-11-11</th>\n",
              "      <td>1303.300049</td>\n",
              "      <td>1327.245239</td>\n",
              "    </tr>\n",
              "  </tbody>\n",
              "</table>\n",
              "<p>146 rows × 2 columns</p>\n",
              "</div>"
            ],
            "text/plain": [
              "                  Close    test_pred\n",
              "Date                                \n",
              "2021-04-12   832.910767   865.806152\n",
              "2021-04-13   859.759949   883.628967\n",
              "2021-04-15   878.539734   889.107300\n",
              "2021-04-16   870.763733   889.974976\n",
              "2021-04-19   868.611877   889.919983\n",
              "...                 ...          ...\n",
              "2021-11-04  1325.900024  1310.982300\n",
              "2021-11-08  1343.250000  1313.840454\n",
              "2021-11-09  1335.949951  1316.783447\n",
              "2021-11-10  1298.550049  1322.275146\n",
              "2021-11-11  1303.300049  1327.245239\n",
              "\n",
              "[146 rows x 2 columns]"
            ]
          },
          "metadata": {},
          "execution_count": 31
        }
      ]
    },
    {
      "cell_type": "code",
      "metadata": {
        "colab": {
          "base_uri": "https://localhost:8080/"
        },
        "id": "QmUgjtO6tzIx",
        "outputId": "80bf0337-23ea-4cac-f05b-16af5e1850a5"
      },
      "source": [
        "### Test Data RMSE\n",
        "mean_squared_error(b['Close'],b['test_pred'],squared=False)"
      ],
      "execution_count": null,
      "outputs": [
        {
          "output_type": "execute_result",
          "data": {
            "text/plain": [
              "55.977472345130046"
            ]
          },
          "metadata": {},
          "execution_count": 32
        }
      ]
    },
    {
      "cell_type": "code",
      "metadata": {
        "colab": {
          "base_uri": "https://localhost:8080/",
          "height": 265
        },
        "id": "hIXqeYswtzIx",
        "outputId": "0bc41ec9-cc8f-404c-df08-99d0dc3a1f63"
      },
      "source": [
        "### Plotting \n",
        "# shift train predictions for plotting\n",
        "look_back=time_step\n",
        "trainPredictPlot = numpy.empty_like(df1)\n",
        "trainPredictPlot[:, :] = np.nan\n",
        "trainPredictPlot[look_back:len(train_predict)+look_back, :] = train_predict\n",
        "# shift test predictions for plotting\n",
        "testPredictPlot = numpy.empty_like(df1)\n",
        "testPredictPlot[:, :] = numpy.nan\n",
        "testPredictPlot[len(train_predict)+(look_back*2)+1:len(df1)-1, :] = test_predict\n",
        "# plot baseline and predictions\n",
        "plt.plot(scaler.inverse_transform(df1))\n",
        "plt.plot(trainPredictPlot)\n",
        "plt.plot(testPredictPlot)\n",
        "plt.show()"
      ],
      "execution_count": null,
      "outputs": [
        {
          "output_type": "display_data",
          "data": {
            "image/png": "[encoded data removed]",
            "text/plain": [
              "<Figure size 432x288 with 1 Axes>"
            ]
          },
          "metadata": {
            "needs_background": "light"
          }
        }
      ]
    },
    {
      "cell_type": "code",
      "metadata": {
        "id": "S2G3vK_ItzIy"
      },
      "source": [
        "s1 = test_data.shape[0]-time_step"
      ],
      "execution_count": null,
      "outputs": []
    },
    {
      "cell_type": "code",
      "metadata": {
        "colab": {
          "base_uri": "https://localhost:8080/"
        },
        "id": "bgXct9G0tzIy",
        "outputId": "da5c880a-115d-4b62-a67a-f7d00dd2686d"
      },
      "source": [
        "x_input=test_data[s1:].reshape(1,-1)\n",
        "x_input.shape"
      ],
      "execution_count": null,
      "outputs": [
        {
          "output_type": "execute_result",
          "data": {
            "text/plain": [
              "(1, 100)"
            ]
          },
          "metadata": {},
          "execution_count": 504
        }
      ]
    },
    {
      "cell_type": "code",
      "metadata": {
        "id": "CIMQC5_OtzIy"
      },
      "source": [
        "temp_input=list(x_input)\n",
        "temp_input=temp_input[0].tolist()"
      ],
      "execution_count": null,
      "outputs": []
    },
    {
      "cell_type": "code",
      "metadata": {
        "id": "Hg49FfvytzIz"
      },
      "source": [
        "# temp_input"
      ],
      "execution_count": null,
      "outputs": []
    },
    {
      "cell_type": "code",
      "metadata": {
        "colab": {
          "base_uri": "https://localhost:8080/"
        },
        "id": "6XMA3-9_tzIz",
        "outputId": "5a1223e7-4f5f-4c28-a6e0-3251a5b74cf8"
      },
      "source": [
        "# demonstrate prediction for next 10 days\n",
        "from numpy import array\n",
        "\n",
        "lst_output=[]\n",
        "n_steps=time_step\n",
        "i=0\n",
        "while(i<30):\n",
        "    \n",
        "    if(len(temp_input)>time_step):\n",
        "        #print(temp_input)\n",
        "        x_input=np.array(temp_input[1:])\n",
        "        print(\"{} day input {}\".format(i,x_input))\n",
        "        x_input=x_input.reshape(1,-1)\n",
        "        x_input = x_input.reshape((1, n_steps, 1))\n",
        "        #print(x_input)\n",
        "        yhat = model.predict(x_input, verbose=0)\n",
        "        print(\"{} day output {}\".format(i,yhat))\n",
        "        temp_input.extend(yhat[0].tolist())\n",
        "        temp_input=temp_input[1:]\n",
        "        #print(temp_input)\n",
        "        lst_output.extend(yhat.tolist())\n",
        "        i=i+1\n",
        "    else:\n",
        "        x_input = x_input.reshape((1, n_steps,1))\n",
        "        yhat = model.predict(x_input, verbose=0)\n",
        "        print(yhat[0])\n",
        "        temp_input.extend(yhat[0].tolist())\n",
        "        print(len(temp_input))\n",
        "        lst_output.extend(yhat.tolist())\n",
        "        i=i+1\n",
        "    \n",
        "\n",
        "print(lst_output)"
      ],
      "execution_count": null,
      "outputs": [
        {
          "output_type": "stream",
          "name": "stdout",
          "text": [
            "[0.4556432]\n",
            "101\n",
            "1 day input [0.60235577 0.59812443 0.59931456 0.60030627 0.59918223 0.59739723\n",
            " 0.58721557 0.60724822 0.63455343 0.61888437 0.61538031 0.61617367\n",
            " 0.62880153 0.62800808 0.60989283 0.62853702 0.61095063 0.63223942\n",
            " 0.62020667 0.62192558 0.63085103 0.61974382 0.66099919 0.65504886\n",
            " 0.63528071 0.64149547 0.61187625 0.58080255 0.53101842 0.52956394\n",
            " 0.53478691 0.55574518 0.55336509 0.55171219 0.54034047 0.54457181\n",
            " 0.5412     0.53372903 0.52070457 0.51733277 0.50701885 0.49730003\n",
            " 0.50536603 0.48506894 0.48454    0.46622633 0.45022667 0.44229293\n",
            " 0.43971449 0.43065678 0.43561532 0.45102004 0.45373073 0.45604466\n",
            " 0.46444126 0.45829259 0.46106937 0.45399516 0.44356609 0.44941165\n",
            " 0.44163968 0.45871149 0.46449072 0.46382645 0.44183892 0.40962167\n",
            " 0.42503284 0.43267199 0.4327384  0.42755707 0.4215786  0.41287659\n",
            " 0.42888562 0.43067916 0.43426626 0.44310105 0.44310105 0.42310643\n",
            " 0.43984609 0.45279944 0.46196645 0.45173661 0.45638653 0.44974379\n",
            " 0.44203823 0.43758763 0.42463425 0.42044933 0.40769526 0.39812974\n",
            " 0.42729134 0.42171147 0.40948881 0.42197715 0.43579404 0.43785327\n",
            " 0.43605977 0.44788387 0.45220165 0.45564321]\n",
            "1 day output [[0.45992705]]\n",
            "2 day input [0.59812443 0.59931456 0.60030627 0.59918223 0.59739723 0.58721557\n",
            " 0.60724822 0.63455343 0.61888437 0.61538031 0.61617367 0.62880153\n",
            " 0.62800808 0.60989283 0.62853702 0.61095063 0.63223942 0.62020667\n",
            " 0.62192558 0.63085103 0.61974382 0.66099919 0.65504886 0.63528071\n",
            " 0.64149547 0.61187625 0.58080255 0.53101842 0.52956394 0.53478691\n",
            " 0.55574518 0.55336509 0.55171219 0.54034047 0.54457181 0.5412\n",
            " 0.53372903 0.52070457 0.51733277 0.50701885 0.49730003 0.50536603\n",
            " 0.48506894 0.48454    0.46622633 0.45022667 0.44229293 0.43971449\n",
            " 0.43065678 0.43561532 0.45102004 0.45373073 0.45604466 0.46444126\n",
            " 0.45829259 0.46106937 0.45399516 0.44356609 0.44941165 0.44163968\n",
            " 0.45871149 0.46449072 0.46382645 0.44183892 0.40962167 0.42503284\n",
            " 0.43267199 0.4327384  0.42755707 0.4215786  0.41287659 0.42888562\n",
            " 0.43067916 0.43426626 0.44310105 0.44310105 0.42310643 0.43984609\n",
            " 0.45279944 0.46196645 0.45173661 0.45638653 0.44974379 0.44203823\n",
            " 0.43758763 0.42463425 0.42044933 0.40769526 0.39812974 0.42729134\n",
            " 0.42171147 0.40948881 0.42197715 0.43579404 0.43785327 0.43605977\n",
            " 0.44788387 0.45220165 0.45564321 0.45992705]\n",
            "2 day output [[0.46401155]]\n",
            "3 day input [0.59931456 0.60030627 0.59918223 0.59739723 0.58721557 0.60724822\n",
            " 0.63455343 0.61888437 0.61538031 0.61617367 0.62880153 0.62800808\n",
            " 0.60989283 0.62853702 0.61095063 0.63223942 0.62020667 0.62192558\n",
            " 0.63085103 0.61974382 0.66099919 0.65504886 0.63528071 0.64149547\n",
            " 0.61187625 0.58080255 0.53101842 0.52956394 0.53478691 0.55574518\n",
            " 0.55336509 0.55171219 0.54034047 0.54457181 0.5412     0.53372903\n",
            " 0.52070457 0.51733277 0.50701885 0.49730003 0.50536603 0.48506894\n",
            " 0.48454    0.46622633 0.45022667 0.44229293 0.43971449 0.43065678\n",
            " 0.43561532 0.45102004 0.45373073 0.45604466 0.46444126 0.45829259\n",
            " 0.46106937 0.45399516 0.44356609 0.44941165 0.44163968 0.45871149\n",
            " 0.46449072 0.46382645 0.44183892 0.40962167 0.42503284 0.43267199\n",
            " 0.4327384  0.42755707 0.4215786  0.41287659 0.42888562 0.43067916\n",
            " 0.43426626 0.44310105 0.44310105 0.42310643 0.43984609 0.45279944\n",
            " 0.46196645 0.45173661 0.45638653 0.44974379 0.44203823 0.43758763\n",
            " 0.42463425 0.42044933 0.40769526 0.39812974 0.42729134 0.42171147\n",
            " 0.40948881 0.42197715 0.43579404 0.43785327 0.43605977 0.44788387\n",
            " 0.45220165 0.45564321 0.45992705 0.46401155]\n",
            "3 day output [[0.4682589]]\n",
            "4 day input [0.60030627 0.59918223 0.59739723 0.58721557 0.60724822 0.63455343\n",
            " 0.61888437 0.61538031 0.61617367 0.62880153 0.62800808 0.60989283\n",
            " 0.62853702 0.61095063 0.63223942 0.62020667 0.62192558 0.63085103\n",
            " 0.61974382 0.66099919 0.65504886 0.63528071 0.64149547 0.61187625\n",
            " 0.58080255 0.53101842 0.52956394 0.53478691 0.55574518 0.55336509\n",
            " 0.55171219 0.54034047 0.54457181 0.5412     0.53372903 0.52070457\n",
            " 0.51733277 0.50701885 0.49730003 0.50536603 0.48506894 0.48454\n",
            " 0.46622633 0.45022667 0.44229293 0.43971449 0.43065678 0.43561532\n",
            " 0.45102004 0.45373073 0.45604466 0.46444126 0.45829259 0.46106937\n",
            " 0.45399516 0.44356609 0.44941165 0.44163968 0.45871149 0.46449072\n",
            " 0.46382645 0.44183892 0.40962167 0.42503284 0.43267199 0.4327384\n",
            " 0.42755707 0.4215786  0.41287659 0.42888562 0.43067916 0.43426626\n",
            " 0.44310105 0.44310105 0.42310643 0.43984609 0.45279944 0.46196645\n",
            " 0.45173661 0.45638653 0.44974379 0.44203823 0.43758763 0.42463425\n",
            " 0.42044933 0.40769526 0.39812974 0.42729134 0.42171147 0.40948881\n",
            " 0.42197715 0.43579404 0.43785327 0.43605977 0.44788387 0.45220165\n",
            " 0.45564321 0.45992705 0.46401155 0.46825889]\n",
            "4 day output [[0.47281358]]\n",
            "5 day input [0.59918223 0.59739723 0.58721557 0.60724822 0.63455343 0.61888437\n",
            " 0.61538031 0.61617367 0.62880153 0.62800808 0.60989283 0.62853702\n",
            " 0.61095063 0.63223942 0.62020667 0.62192558 0.63085103 0.61974382\n",
            " 0.66099919 0.65504886 0.63528071 0.64149547 0.61187625 0.58080255\n",
            " 0.53101842 0.52956394 0.53478691 0.55574518 0.55336509 0.55171219\n",
            " 0.54034047 0.54457181 0.5412     0.53372903 0.52070457 0.51733277\n",
            " 0.50701885 0.49730003 0.50536603 0.48506894 0.48454    0.46622633\n",
            " 0.45022667 0.44229293 0.43971449 0.43065678 0.43561532 0.45102004\n",
            " 0.45373073 0.45604466 0.46444126 0.45829259 0.46106937 0.45399516\n",
            " 0.44356609 0.44941165 0.44163968 0.45871149 0.46449072 0.46382645\n",
            " 0.44183892 0.40962167 0.42503284 0.43267199 0.4327384  0.42755707\n",
            " 0.4215786  0.41287659 0.42888562 0.43067916 0.43426626 0.44310105\n",
            " 0.44310105 0.42310643 0.43984609 0.45279944 0.46196645 0.45173661\n",
            " 0.45638653 0.44974379 0.44203823 0.43758763 0.42463425 0.42044933\n",
            " 0.40769526 0.39812974 0.42729134 0.42171147 0.40948881 0.42197715\n",
            " 0.43579404 0.43785327 0.43605977 0.44788387 0.45220165 0.45564321\n",
            " 0.45992705 0.46401155 0.46825889 0.47281358]\n",
            "5 day output [[0.4777297]]\n",
            "6 day input [0.59739723 0.58721557 0.60724822 0.63455343 0.61888437 0.61538031\n",
            " 0.61617367 0.62880153 0.62800808 0.60989283 0.62853702 0.61095063\n",
            " 0.63223942 0.62020667 0.62192558 0.63085103 0.61974382 0.66099919\n",
            " 0.65504886 0.63528071 0.64149547 0.61187625 0.58080255 0.53101842\n",
            " 0.52956394 0.53478691 0.55574518 0.55336509 0.55171219 0.54034047\n",
            " 0.54457181 0.5412     0.53372903 0.52070457 0.51733277 0.50701885\n",
            " 0.49730003 0.50536603 0.48506894 0.48454    0.46622633 0.45022667\n",
            " 0.44229293 0.43971449 0.43065678 0.43561532 0.45102004 0.45373073\n",
            " 0.45604466 0.46444126 0.45829259 0.46106937 0.45399516 0.44356609\n",
            " 0.44941165 0.44163968 0.45871149 0.46449072 0.46382645 0.44183892\n",
            " 0.40962167 0.42503284 0.43267199 0.4327384  0.42755707 0.4215786\n",
            " 0.41287659 0.42888562 0.43067916 0.43426626 0.44310105 0.44310105\n",
            " 0.42310643 0.43984609 0.45279944 0.46196645 0.45173661 0.45638653\n",
            " 0.44974379 0.44203823 0.43758763 0.42463425 0.42044933 0.40769526\n",
            " 0.39812974 0.42729134 0.42171147 0.40948881 0.42197715 0.43579404\n",
            " 0.43785327 0.43605977 0.44788387 0.45220165 0.45564321 0.45992705\n",
            " 0.46401155 0.46825889 0.47281358 0.47772971]\n",
            "6 day output [[0.482991]]\n",
            "7 day input [0.58721557 0.60724822 0.63455343 0.61888437 0.61538031 0.61617367\n",
            " 0.62880153 0.62800808 0.60989283 0.62853702 0.61095063 0.63223942\n",
            " 0.62020667 0.62192558 0.63085103 0.61974382 0.66099919 0.65504886\n",
            " 0.63528071 0.64149547 0.61187625 0.58080255 0.53101842 0.52956394\n",
            " 0.53478691 0.55574518 0.55336509 0.55171219 0.54034047 0.54457181\n",
            " 0.5412     0.53372903 0.52070457 0.51733277 0.50701885 0.49730003\n",
            " 0.50536603 0.48506894 0.48454    0.46622633 0.45022667 0.44229293\n",
            " 0.43971449 0.43065678 0.43561532 0.45102004 0.45373073 0.45604466\n",
            " 0.46444126 0.45829259 0.46106937 0.45399516 0.44356609 0.44941165\n",
            " 0.44163968 0.45871149 0.46449072 0.46382645 0.44183892 0.40962167\n",
            " 0.42503284 0.43267199 0.4327384  0.42755707 0.4215786  0.41287659\n",
            " 0.42888562 0.43067916 0.43426626 0.44310105 0.44310105 0.42310643\n",
            " 0.43984609 0.45279944 0.46196645 0.45173661 0.45638653 0.44974379\n",
            " 0.44203823 0.43758763 0.42463425 0.42044933 0.40769526 0.39812974\n",
            " 0.42729134 0.42171147 0.40948881 0.42197715 0.43579404 0.43785327\n",
            " 0.43605977 0.44788387 0.45220165 0.45564321 0.45992705 0.46401155\n",
            " 0.46825889 0.47281358 0.47772971 0.48299101]\n",
            "7 day output [[0.48853266]]\n",
            "8 day input [0.60724822 0.63455343 0.61888437 0.61538031 0.61617367 0.62880153\n",
            " 0.62800808 0.60989283 0.62853702 0.61095063 0.63223942 0.62020667\n",
            " 0.62192558 0.63085103 0.61974382 0.66099919 0.65504886 0.63528071\n",
            " 0.64149547 0.61187625 0.58080255 0.53101842 0.52956394 0.53478691\n",
            " 0.55574518 0.55336509 0.55171219 0.54034047 0.54457181 0.5412\n",
            " 0.53372903 0.52070457 0.51733277 0.50701885 0.49730003 0.50536603\n",
            " 0.48506894 0.48454    0.46622633 0.45022667 0.44229293 0.43971449\n",
            " 0.43065678 0.43561532 0.45102004 0.45373073 0.45604466 0.46444126\n",
            " 0.45829259 0.46106937 0.45399516 0.44356609 0.44941165 0.44163968\n",
            " 0.45871149 0.46449072 0.46382645 0.44183892 0.40962167 0.42503284\n",
            " 0.43267199 0.4327384  0.42755707 0.4215786  0.41287659 0.42888562\n",
            " 0.43067916 0.43426626 0.44310105 0.44310105 0.42310643 0.43984609\n",
            " 0.45279944 0.46196645 0.45173661 0.45638653 0.44974379 0.44203823\n",
            " 0.43758763 0.42463425 0.42044933 0.40769526 0.39812974 0.42729134\n",
            " 0.42171147 0.40948881 0.42197715 0.43579404 0.43785327 0.43605977\n",
            " 0.44788387 0.45220165 0.45564321 0.45992705 0.46401155 0.46825889\n",
            " 0.47281358 0.47772971 0.48299101 0.48853266]\n",
            "8 day output [[0.49426547]]\n",
            "9 day input [0.63455343 0.61888437 0.61538031 0.61617367 0.62880153 0.62800808\n",
            " 0.60989283 0.62853702 0.61095063 0.63223942 0.62020667 0.62192558\n",
            " 0.63085103 0.61974382 0.66099919 0.65504886 0.63528071 0.64149547\n",
            " 0.61187625 0.58080255 0.53101842 0.52956394 0.53478691 0.55574518\n",
            " 0.55336509 0.55171219 0.54034047 0.54457181 0.5412     0.53372903\n",
            " 0.52070457 0.51733277 0.50701885 0.49730003 0.50536603 0.48506894\n",
            " 0.48454    0.46622633 0.45022667 0.44229293 0.43971449 0.43065678\n",
            " 0.43561532 0.45102004 0.45373073 0.45604466 0.46444126 0.45829259\n",
            " 0.46106937 0.45399516 0.44356609 0.44941165 0.44163968 0.45871149\n",
            " 0.46449072 0.46382645 0.44183892 0.40962167 0.42503284 0.43267199\n",
            " 0.4327384  0.42755707 0.4215786  0.41287659 0.42888562 0.43067916\n",
            " 0.43426626 0.44310105 0.44310105 0.42310643 0.43984609 0.45279944\n",
            " 0.46196645 0.45173661 0.45638653 0.44974379 0.44203823 0.43758763\n",
            " 0.42463425 0.42044933 0.40769526 0.39812974 0.42729134 0.42171147\n",
            " 0.40948881 0.42197715 0.43579404 0.43785327 0.43605977 0.44788387\n",
            " 0.45220165 0.45564321 0.45992705 0.46401155 0.46825889 0.47281358\n",
            " 0.47772971 0.48299101 0.48853266 0.49426547]\n",
            "9 day output [[0.5000992]]\n",
            "10 day input [0.61888437 0.61538031 0.61617367 0.62880153 0.62800808 0.60989283\n",
            " 0.62853702 0.61095063 0.63223942 0.62020667 0.62192558 0.63085103\n",
            " 0.61974382 0.66099919 0.65504886 0.63528071 0.64149547 0.61187625\n",
            " 0.58080255 0.53101842 0.52956394 0.53478691 0.55574518 0.55336509\n",
            " 0.55171219 0.54034047 0.54457181 0.5412     0.53372903 0.52070457\n",
            " 0.51733277 0.50701885 0.49730003 0.50536603 0.48506894 0.48454\n",
            " 0.46622633 0.45022667 0.44229293 0.43971449 0.43065678 0.43561532\n",
            " 0.45102004 0.45373073 0.45604466 0.46444126 0.45829259 0.46106937\n",
            " 0.45399516 0.44356609 0.44941165 0.44163968 0.45871149 0.46449072\n",
            " 0.46382645 0.44183892 0.40962167 0.42503284 0.43267199 0.4327384\n",
            " 0.42755707 0.4215786  0.41287659 0.42888562 0.43067916 0.43426626\n",
            " 0.44310105 0.44310105 0.42310643 0.43984609 0.45279944 0.46196645\n",
            " 0.45173661 0.45638653 0.44974379 0.44203823 0.43758763 0.42463425\n",
            " 0.42044933 0.40769526 0.39812974 0.42729134 0.42171147 0.40948881\n",
            " 0.42197715 0.43579404 0.43785327 0.43605977 0.44788387 0.45220165\n",
            " 0.45564321 0.45992705 0.46401155 0.46825889 0.47281358 0.47772971\n",
            " 0.48299101 0.48853266 0.49426547 0.50009918]\n",
            "10 day output [[0.5059591]]\n",
            "11 day input [0.61538031 0.61617367 0.62880153 0.62800808 0.60989283 0.62853702\n",
            " 0.61095063 0.63223942 0.62020667 0.62192558 0.63085103 0.61974382\n",
            " 0.66099919 0.65504886 0.63528071 0.64149547 0.61187625 0.58080255\n",
            " 0.53101842 0.52956394 0.53478691 0.55574518 0.55336509 0.55171219\n",
            " 0.54034047 0.54457181 0.5412     0.53372903 0.52070457 0.51733277\n",
            " 0.50701885 0.49730003 0.50536603 0.48506894 0.48454    0.46622633\n",
            " 0.45022667 0.44229293 0.43971449 0.43065678 0.43561532 0.45102004\n",
            " 0.45373073 0.45604466 0.46444126 0.45829259 0.46106937 0.45399516\n",
            " 0.44356609 0.44941165 0.44163968 0.45871149 0.46449072 0.46382645\n",
            " 0.44183892 0.40962167 0.42503284 0.43267199 0.4327384  0.42755707\n",
            " 0.4215786  0.41287659 0.42888562 0.43067916 0.43426626 0.44310105\n",
            " 0.44310105 0.42310643 0.43984609 0.45279944 0.46196645 0.45173661\n",
            " 0.45638653 0.44974379 0.44203823 0.43758763 0.42463425 0.42044933\n",
            " 0.40769526 0.39812974 0.42729134 0.42171147 0.40948881 0.42197715\n",
            " 0.43579404 0.43785327 0.43605977 0.44788387 0.45220165 0.45564321\n",
            " 0.45992705 0.46401155 0.46825889 0.47281358 0.47772971 0.48299101\n",
            " 0.48853266 0.49426547 0.50009918 0.50595909]\n",
            "11 day output [[0.5117956]]\n",
            "12 day input [0.61617367 0.62880153 0.62800808 0.60989283 0.62853702 0.61095063\n",
            " 0.63223942 0.62020667 0.62192558 0.63085103 0.61974382 0.66099919\n",
            " 0.65504886 0.63528071 0.64149547 0.61187625 0.58080255 0.53101842\n",
            " 0.52956394 0.53478691 0.55574518 0.55336509 0.55171219 0.54034047\n",
            " 0.54457181 0.5412     0.53372903 0.52070457 0.51733277 0.50701885\n",
            " 0.49730003 0.50536603 0.48506894 0.48454    0.46622633 0.45022667\n",
            " 0.44229293 0.43971449 0.43065678 0.43561532 0.45102004 0.45373073\n",
            " 0.45604466 0.46444126 0.45829259 0.46106937 0.45399516 0.44356609\n",
            " 0.44941165 0.44163968 0.45871149 0.46449072 0.46382645 0.44183892\n",
            " 0.40962167 0.42503284 0.43267199 0.4327384  0.42755707 0.4215786\n",
            " 0.41287659 0.42888562 0.43067916 0.43426626 0.44310105 0.44310105\n",
            " 0.42310643 0.43984609 0.45279944 0.46196645 0.45173661 0.45638653\n",
            " 0.44974379 0.44203823 0.43758763 0.42463425 0.42044933 0.40769526\n",
            " 0.39812974 0.42729134 0.42171147 0.40948881 0.42197715 0.43579404\n",
            " 0.43785327 0.43605977 0.44788387 0.45220165 0.45564321 0.45992705\n",
            " 0.46401155 0.46825889 0.47281358 0.47772971 0.48299101 0.48853266\n",
            " 0.49426547 0.50009918 0.50595909 0.51179558]\n",
            "12 day output [[0.5175859]]\n",
            "13 day input [0.62880153 0.62800808 0.60989283 0.62853702 0.61095063 0.63223942\n",
            " 0.62020667 0.62192558 0.63085103 0.61974382 0.66099919 0.65504886\n",
            " 0.63528071 0.64149547 0.61187625 0.58080255 0.53101842 0.52956394\n",
            " 0.53478691 0.55574518 0.55336509 0.55171219 0.54034047 0.54457181\n",
            " 0.5412     0.53372903 0.52070457 0.51733277 0.50701885 0.49730003\n",
            " 0.50536603 0.48506894 0.48454    0.46622633 0.45022667 0.44229293\n",
            " 0.43971449 0.43065678 0.43561532 0.45102004 0.45373073 0.45604466\n",
            " 0.46444126 0.45829259 0.46106937 0.45399516 0.44356609 0.44941165\n",
            " 0.44163968 0.45871149 0.46449072 0.46382645 0.44183892 0.40962167\n",
            " 0.42503284 0.43267199 0.4327384  0.42755707 0.4215786  0.41287659\n",
            " 0.42888562 0.43067916 0.43426626 0.44310105 0.44310105 0.42310643\n",
            " 0.43984609 0.45279944 0.46196645 0.45173661 0.45638653 0.44974379\n",
            " 0.44203823 0.43758763 0.42463425 0.42044933 0.40769526 0.39812974\n",
            " 0.42729134 0.42171147 0.40948881 0.42197715 0.43579404 0.43785327\n",
            " 0.43605977 0.44788387 0.45220165 0.45564321 0.45992705 0.46401155\n",
            " 0.46825889 0.47281358 0.47772971 0.48299101 0.48853266 0.49426547\n",
            " 0.50009918 0.50595909 0.51179558 0.51758587]\n",
            "13 day output [[0.5233296]]\n",
            "14 day input [0.62800808 0.60989283 0.62853702 0.61095063 0.63223942 0.62020667\n",
            " 0.62192558 0.63085103 0.61974382 0.66099919 0.65504886 0.63528071\n",
            " 0.64149547 0.61187625 0.58080255 0.53101842 0.52956394 0.53478691\n",
            " 0.55574518 0.55336509 0.55171219 0.54034047 0.54457181 0.5412\n",
            " 0.53372903 0.52070457 0.51733277 0.50701885 0.49730003 0.50536603\n",
            " 0.48506894 0.48454    0.46622633 0.45022667 0.44229293 0.43971449\n",
            " 0.43065678 0.43561532 0.45102004 0.45373073 0.45604466 0.46444126\n",
            " 0.45829259 0.46106937 0.45399516 0.44356609 0.44941165 0.44163968\n",
            " 0.45871149 0.46449072 0.46382645 0.44183892 0.40962167 0.42503284\n",
            " 0.43267199 0.4327384  0.42755707 0.4215786  0.41287659 0.42888562\n",
            " 0.43067916 0.43426626 0.44310105 0.44310105 0.42310643 0.43984609\n",
            " 0.45279944 0.46196645 0.45173661 0.45638653 0.44974379 0.44203823\n",
            " 0.43758763 0.42463425 0.42044933 0.40769526 0.39812974 0.42729134\n",
            " 0.42171147 0.40948881 0.42197715 0.43579404 0.43785327 0.43605977\n",
            " 0.44788387 0.45220165 0.45564321 0.45992705 0.46401155 0.46825889\n",
            " 0.47281358 0.47772971 0.48299101 0.48853266 0.49426547 0.50009918\n",
            " 0.50595909 0.51179558 0.51758587 0.52332962]\n",
            "14 day output [[0.52904177]]\n",
            "15 day input [0.60989283 0.62853702 0.61095063 0.63223942 0.62020667 0.62192558\n",
            " 0.63085103 0.61974382 0.66099919 0.65504886 0.63528071 0.64149547\n",
            " 0.61187625 0.58080255 0.53101842 0.52956394 0.53478691 0.55574518\n",
            " 0.55336509 0.55171219 0.54034047 0.54457181 0.5412     0.53372903\n",
            " 0.52070457 0.51733277 0.50701885 0.49730003 0.50536603 0.48506894\n",
            " 0.48454    0.46622633 0.45022667 0.44229293 0.43971449 0.43065678\n",
            " 0.43561532 0.45102004 0.45373073 0.45604466 0.46444126 0.45829259\n",
            " 0.46106937 0.45399516 0.44356609 0.44941165 0.44163968 0.45871149\n",
            " 0.46449072 0.46382645 0.44183892 0.40962167 0.42503284 0.43267199\n",
            " 0.4327384  0.42755707 0.4215786  0.41287659 0.42888562 0.43067916\n",
            " 0.43426626 0.44310105 0.44310105 0.42310643 0.43984609 0.45279944\n",
            " 0.46196645 0.45173661 0.45638653 0.44974379 0.44203823 0.43758763\n",
            " 0.42463425 0.42044933 0.40769526 0.39812974 0.42729134 0.42171147\n",
            " 0.40948881 0.42197715 0.43579404 0.43785327 0.43605977 0.44788387\n",
            " 0.45220165 0.45564321 0.45992705 0.46401155 0.46825889 0.47281358\n",
            " 0.47772971 0.48299101 0.48853266 0.49426547 0.50009918 0.50595909\n",
            " 0.51179558 0.51758587 0.52332962 0.52904177]\n",
            "15 day output [[0.5347445]]\n",
            "16 day input [0.62853702 0.61095063 0.63223942 0.62020667 0.62192558 0.63085103\n",
            " 0.61974382 0.66099919 0.65504886 0.63528071 0.64149547 0.61187625\n",
            " 0.58080255 0.53101842 0.52956394 0.53478691 0.55574518 0.55336509\n",
            " 0.55171219 0.54034047 0.54457181 0.5412     0.53372903 0.52070457\n",
            " 0.51733277 0.50701885 0.49730003 0.50536603 0.48506894 0.48454\n",
            " 0.46622633 0.45022667 0.44229293 0.43971449 0.43065678 0.43561532\n",
            " 0.45102004 0.45373073 0.45604466 0.46444126 0.45829259 0.46106937\n",
            " 0.45399516 0.44356609 0.44941165 0.44163968 0.45871149 0.46449072\n",
            " 0.46382645 0.44183892 0.40962167 0.42503284 0.43267199 0.4327384\n",
            " 0.42755707 0.4215786  0.41287659 0.42888562 0.43067916 0.43426626\n",
            " 0.44310105 0.44310105 0.42310643 0.43984609 0.45279944 0.46196645\n",
            " 0.45173661 0.45638653 0.44974379 0.44203823 0.43758763 0.42463425\n",
            " 0.42044933 0.40769526 0.39812974 0.42729134 0.42171147 0.40948881\n",
            " 0.42197715 0.43579404 0.43785327 0.43605977 0.44788387 0.45220165\n",
            " 0.45564321 0.45992705 0.46401155 0.46825889 0.47281358 0.47772971\n",
            " 0.48299101 0.48853266 0.49426547 0.50009918 0.50595909 0.51179558\n",
            " 0.51758587 0.52332962 0.52904177 0.5347445 ]\n",
            "16 day output [[0.5404583]]\n",
            "17 day input [0.61095063 0.63223942 0.62020667 0.62192558 0.63085103 0.61974382\n",
            " 0.66099919 0.65504886 0.63528071 0.64149547 0.61187625 0.58080255\n",
            " 0.53101842 0.52956394 0.53478691 0.55574518 0.55336509 0.55171219\n",
            " 0.54034047 0.54457181 0.5412     0.53372903 0.52070457 0.51733277\n",
            " 0.50701885 0.49730003 0.50536603 0.48506894 0.48454    0.46622633\n",
            " 0.45022667 0.44229293 0.43971449 0.43065678 0.43561532 0.45102004\n",
            " 0.45373073 0.45604466 0.46444126 0.45829259 0.46106937 0.45399516\n",
            " 0.44356609 0.44941165 0.44163968 0.45871149 0.46449072 0.46382645\n",
            " 0.44183892 0.40962167 0.42503284 0.43267199 0.4327384  0.42755707\n",
            " 0.4215786  0.41287659 0.42888562 0.43067916 0.43426626 0.44310105\n",
            " 0.44310105 0.42310643 0.43984609 0.45279944 0.46196645 0.45173661\n",
            " 0.45638653 0.44974379 0.44203823 0.43758763 0.42463425 0.42044933\n",
            " 0.40769526 0.39812974 0.42729134 0.42171147 0.40948881 0.42197715\n",
            " 0.43579404 0.43785327 0.43605977 0.44788387 0.45220165 0.45564321\n",
            " 0.45992705 0.46401155 0.46825889 0.47281358 0.47772971 0.48299101\n",
            " 0.48853266 0.49426547 0.50009918 0.50595909 0.51179558 0.51758587\n",
            " 0.52332962 0.52904177 0.5347445  0.54045832]\n",
            "17 day output [[0.5461981]]\n",
            "18 day input [0.63223942 0.62020667 0.62192558 0.63085103 0.61974382 0.66099919\n",
            " 0.65504886 0.63528071 0.64149547 0.61187625 0.58080255 0.53101842\n",
            " 0.52956394 0.53478691 0.55574518 0.55336509 0.55171219 0.54034047\n",
            " 0.54457181 0.5412     0.53372903 0.52070457 0.51733277 0.50701885\n",
            " 0.49730003 0.50536603 0.48506894 0.48454    0.46622633 0.45022667\n",
            " 0.44229293 0.43971449 0.43065678 0.43561532 0.45102004 0.45373073\n",
            " 0.45604466 0.46444126 0.45829259 0.46106937 0.45399516 0.44356609\n",
            " 0.44941165 0.44163968 0.45871149 0.46449072 0.46382645 0.44183892\n",
            " 0.40962167 0.42503284 0.43267199 0.4327384  0.42755707 0.4215786\n",
            " 0.41287659 0.42888562 0.43067916 0.43426626 0.44310105 0.44310105\n",
            " 0.42310643 0.43984609 0.45279944 0.46196645 0.45173661 0.45638653\n",
            " 0.44974379 0.44203823 0.43758763 0.42463425 0.42044933 0.40769526\n",
            " 0.39812974 0.42729134 0.42171147 0.40948881 0.42197715 0.43579404\n",
            " 0.43785327 0.43605977 0.44788387 0.45220165 0.45564321 0.45992705\n",
            " 0.46401155 0.46825889 0.47281358 0.47772971 0.48299101 0.48853266\n",
            " 0.49426547 0.50009918 0.50595909 0.51179558 0.51758587 0.52332962\n",
            " 0.52904177 0.5347445  0.54045832 0.54619813]\n",
            "18 day output [[0.5519704]]\n",
            "19 day input [0.62020667 0.62192558 0.63085103 0.61974382 0.66099919 0.65504886\n",
            " 0.63528071 0.64149547 0.61187625 0.58080255 0.53101842 0.52956394\n",
            " 0.53478691 0.55574518 0.55336509 0.55171219 0.54034047 0.54457181\n",
            " 0.5412     0.53372903 0.52070457 0.51733277 0.50701885 0.49730003\n",
            " 0.50536603 0.48506894 0.48454    0.46622633 0.45022667 0.44229293\n",
            " 0.43971449 0.43065678 0.43561532 0.45102004 0.45373073 0.45604466\n",
            " 0.46444126 0.45829259 0.46106937 0.45399516 0.44356609 0.44941165\n",
            " 0.44163968 0.45871149 0.46449072 0.46382645 0.44183892 0.40962167\n",
            " 0.42503284 0.43267199 0.4327384  0.42755707 0.4215786  0.41287659\n",
            " 0.42888562 0.43067916 0.43426626 0.44310105 0.44310105 0.42310643\n",
            " 0.43984609 0.45279944 0.46196645 0.45173661 0.45638653 0.44974379\n",
            " 0.44203823 0.43758763 0.42463425 0.42044933 0.40769526 0.39812974\n",
            " 0.42729134 0.42171147 0.40948881 0.42197715 0.43579404 0.43785327\n",
            " 0.43605977 0.44788387 0.45220165 0.45564321 0.45992705 0.46401155\n",
            " 0.46825889 0.47281358 0.47772971 0.48299101 0.48853266 0.49426547\n",
            " 0.50009918 0.50595909 0.51179558 0.51758587 0.52332962 0.52904177\n",
            " 0.5347445  0.54045832 0.54619813 0.55197042]\n",
            "19 day output [[0.557773]]\n",
            "20 day input [0.62192558 0.63085103 0.61974382 0.66099919 0.65504886 0.63528071\n",
            " 0.64149547 0.61187625 0.58080255 0.53101842 0.52956394 0.53478691\n",
            " 0.55574518 0.55336509 0.55171219 0.54034047 0.54457181 0.5412\n",
            " 0.53372903 0.52070457 0.51733277 0.50701885 0.49730003 0.50536603\n",
            " 0.48506894 0.48454    0.46622633 0.45022667 0.44229293 0.43971449\n",
            " 0.43065678 0.43561532 0.45102004 0.45373073 0.45604466 0.46444126\n",
            " 0.45829259 0.46106937 0.45399516 0.44356609 0.44941165 0.44163968\n",
            " 0.45871149 0.46449072 0.46382645 0.44183892 0.40962167 0.42503284\n",
            " 0.43267199 0.4327384  0.42755707 0.4215786  0.41287659 0.42888562\n",
            " 0.43067916 0.43426626 0.44310105 0.44310105 0.42310643 0.43984609\n",
            " 0.45279944 0.46196645 0.45173661 0.45638653 0.44974379 0.44203823\n",
            " 0.43758763 0.42463425 0.42044933 0.40769526 0.39812974 0.42729134\n",
            " 0.42171147 0.40948881 0.42197715 0.43579404 0.43785327 0.43605977\n",
            " 0.44788387 0.45220165 0.45564321 0.45992705 0.46401155 0.46825889\n",
            " 0.47281358 0.47772971 0.48299101 0.48853266 0.49426547 0.50009918\n",
            " 0.50595909 0.51179558 0.51758587 0.52332962 0.52904177 0.5347445\n",
            " 0.54045832 0.54619813 0.55197042 0.55777299]\n",
            "20 day output [[0.56359684]]\n",
            "21 day input [0.63085103 0.61974382 0.66099919 0.65504886 0.63528071 0.64149547\n",
            " 0.61187625 0.58080255 0.53101842 0.52956394 0.53478691 0.55574518\n",
            " 0.55336509 0.55171219 0.54034047 0.54457181 0.5412     0.53372903\n",
            " 0.52070457 0.51733277 0.50701885 0.49730003 0.50536603 0.48506894\n",
            " 0.48454    0.46622633 0.45022667 0.44229293 0.43971449 0.43065678\n",
            " 0.43561532 0.45102004 0.45373073 0.45604466 0.46444126 0.45829259\n",
            " 0.46106937 0.45399516 0.44356609 0.44941165 0.44163968 0.45871149\n",
            " 0.46449072 0.46382645 0.44183892 0.40962167 0.42503284 0.43267199\n",
            " 0.4327384  0.42755707 0.4215786  0.41287659 0.42888562 0.43067916\n",
            " 0.43426626 0.44310105 0.44310105 0.42310643 0.43984609 0.45279944\n",
            " 0.46196645 0.45173661 0.45638653 0.44974379 0.44203823 0.43758763\n",
            " 0.42463425 0.42044933 0.40769526 0.39812974 0.42729134 0.42171147\n",
            " 0.40948881 0.42197715 0.43579404 0.43785327 0.43605977 0.44788387\n",
            " 0.45220165 0.45564321 0.45992705 0.46401155 0.46825889 0.47281358\n",
            " 0.47772971 0.48299101 0.48853266 0.49426547 0.50009918 0.50595909\n",
            " 0.51179558 0.51758587 0.52332962 0.52904177 0.5347445  0.54045832\n",
            " 0.54619813 0.55197042 0.55777299 0.56359684]\n",
            "21 day output [[0.5694298]]\n",
            "22 day input [0.61974382 0.66099919 0.65504886 0.63528071 0.64149547 0.61187625\n",
            " 0.58080255 0.53101842 0.52956394 0.53478691 0.55574518 0.55336509\n",
            " 0.55171219 0.54034047 0.54457181 0.5412     0.53372903 0.52070457\n",
            " 0.51733277 0.50701885 0.49730003 0.50536603 0.48506894 0.48454\n",
            " 0.46622633 0.45022667 0.44229293 0.43971449 0.43065678 0.43561532\n",
            " 0.45102004 0.45373073 0.45604466 0.46444126 0.45829259 0.46106937\n",
            " 0.45399516 0.44356609 0.44941165 0.44163968 0.45871149 0.46449072\n",
            " 0.46382645 0.44183892 0.40962167 0.42503284 0.43267199 0.4327384\n",
            " 0.42755707 0.4215786  0.41287659 0.42888562 0.43067916 0.43426626\n",
            " 0.44310105 0.44310105 0.42310643 0.43984609 0.45279944 0.46196645\n",
            " 0.45173661 0.45638653 0.44974379 0.44203823 0.43758763 0.42463425\n",
            " 0.42044933 0.40769526 0.39812974 0.42729134 0.42171147 0.40948881\n",
            " 0.42197715 0.43579404 0.43785327 0.43605977 0.44788387 0.45220165\n",
            " 0.45564321 0.45992705 0.46401155 0.46825889 0.47281358 0.47772971\n",
            " 0.48299101 0.48853266 0.49426547 0.50009918 0.50595909 0.51179558\n",
            " 0.51758587 0.52332962 0.52904177 0.5347445  0.54045832 0.54619813\n",
            " 0.55197042 0.55777299 0.56359684 0.56942981]\n",
            "22 day output [[0.5752585]]\n",
            "23 day input [0.66099919 0.65504886 0.63528071 0.64149547 0.61187625 0.58080255\n",
            " 0.53101842 0.52956394 0.53478691 0.55574518 0.55336509 0.55171219\n",
            " 0.54034047 0.54457181 0.5412     0.53372903 0.52070457 0.51733277\n",
            " 0.50701885 0.49730003 0.50536603 0.48506894 0.48454    0.46622633\n",
            " 0.45022667 0.44229293 0.43971449 0.43065678 0.43561532 0.45102004\n",
            " 0.45373073 0.45604466 0.46444126 0.45829259 0.46106937 0.45399516\n",
            " 0.44356609 0.44941165 0.44163968 0.45871149 0.46449072 0.46382645\n",
            " 0.44183892 0.40962167 0.42503284 0.43267199 0.4327384  0.42755707\n",
            " 0.4215786  0.41287659 0.42888562 0.43067916 0.43426626 0.44310105\n",
            " 0.44310105 0.42310643 0.43984609 0.45279944 0.46196645 0.45173661\n",
            " 0.45638653 0.44974379 0.44203823 0.43758763 0.42463425 0.42044933\n",
            " 0.40769526 0.39812974 0.42729134 0.42171147 0.40948881 0.42197715\n",
            " 0.43579404 0.43785327 0.43605977 0.44788387 0.45220165 0.45564321\n",
            " 0.45992705 0.46401155 0.46825889 0.47281358 0.47772971 0.48299101\n",
            " 0.48853266 0.49426547 0.50009918 0.50595909 0.51179558 0.51758587\n",
            " 0.52332962 0.52904177 0.5347445  0.54045832 0.54619813 0.55197042\n",
            " 0.55777299 0.56359684 0.56942981 0.57525849]\n",
            "23 day output [[0.58107114]]\n",
            "24 day input [0.65504886 0.63528071 0.64149547 0.61187625 0.58080255 0.53101842\n",
            " 0.52956394 0.53478691 0.55574518 0.55336509 0.55171219 0.54034047\n",
            " 0.54457181 0.5412     0.53372903 0.52070457 0.51733277 0.50701885\n",
            " 0.49730003 0.50536603 0.48506894 0.48454    0.46622633 0.45022667\n",
            " 0.44229293 0.43971449 0.43065678 0.43561532 0.45102004 0.45373073\n",
            " 0.45604466 0.46444126 0.45829259 0.46106937 0.45399516 0.44356609\n",
            " 0.44941165 0.44163968 0.45871149 0.46449072 0.46382645 0.44183892\n",
            " 0.40962167 0.42503284 0.43267199 0.4327384  0.42755707 0.4215786\n",
            " 0.41287659 0.42888562 0.43067916 0.43426626 0.44310105 0.44310105\n",
            " 0.42310643 0.43984609 0.45279944 0.46196645 0.45173661 0.45638653\n",
            " 0.44974379 0.44203823 0.43758763 0.42463425 0.42044933 0.40769526\n",
            " 0.39812974 0.42729134 0.42171147 0.40948881 0.42197715 0.43579404\n",
            " 0.43785327 0.43605977 0.44788387 0.45220165 0.45564321 0.45992705\n",
            " 0.46401155 0.46825889 0.47281358 0.47772971 0.48299101 0.48853266\n",
            " 0.49426547 0.50009918 0.50595909 0.51179558 0.51758587 0.52332962\n",
            " 0.52904177 0.5347445  0.54045832 0.54619813 0.55197042 0.55777299\n",
            " 0.56359684 0.56942981 0.57525849 0.58107114]\n",
            "24 day output [[0.58685887]]\n",
            "25 day input [0.63528071 0.64149547 0.61187625 0.58080255 0.53101842 0.52956394\n",
            " 0.53478691 0.55574518 0.55336509 0.55171219 0.54034047 0.54457181\n",
            " 0.5412     0.53372903 0.52070457 0.51733277 0.50701885 0.49730003\n",
            " 0.50536603 0.48506894 0.48454    0.46622633 0.45022667 0.44229293\n",
            " 0.43971449 0.43065678 0.43561532 0.45102004 0.45373073 0.45604466\n",
            " 0.46444126 0.45829259 0.46106937 0.45399516 0.44356609 0.44941165\n",
            " 0.44163968 0.45871149 0.46449072 0.46382645 0.44183892 0.40962167\n",
            " 0.42503284 0.43267199 0.4327384  0.42755707 0.4215786  0.41287659\n",
            " 0.42888562 0.43067916 0.43426626 0.44310105 0.44310105 0.42310643\n",
            " 0.43984609 0.45279944 0.46196645 0.45173661 0.45638653 0.44974379\n",
            " 0.44203823 0.43758763 0.42463425 0.42044933 0.40769526 0.39812974\n",
            " 0.42729134 0.42171147 0.40948881 0.42197715 0.43579404 0.43785327\n",
            " 0.43605977 0.44788387 0.45220165 0.45564321 0.45992705 0.46401155\n",
            " 0.46825889 0.47281358 0.47772971 0.48299101 0.48853266 0.49426547\n",
            " 0.50009918 0.50595909 0.51179558 0.51758587 0.52332962 0.52904177\n",
            " 0.5347445  0.54045832 0.54619813 0.55197042 0.55777299 0.56359684\n",
            " 0.56942981 0.57525849 0.58107114 0.58685887]\n",
            "25 day output [[0.59261656]]\n",
            "26 day input [0.64149547 0.61187625 0.58080255 0.53101842 0.52956394 0.53478691\n",
            " 0.55574518 0.55336509 0.55171219 0.54034047 0.54457181 0.5412\n",
            " 0.53372903 0.52070457 0.51733277 0.50701885 0.49730003 0.50536603\n",
            " 0.48506894 0.48454    0.46622633 0.45022667 0.44229293 0.43971449\n",
            " 0.43065678 0.43561532 0.45102004 0.45373073 0.45604466 0.46444126\n",
            " 0.45829259 0.46106937 0.45399516 0.44356609 0.44941165 0.44163968\n",
            " 0.45871149 0.46449072 0.46382645 0.44183892 0.40962167 0.42503284\n",
            " 0.43267199 0.4327384  0.42755707 0.4215786  0.41287659 0.42888562\n",
            " 0.43067916 0.43426626 0.44310105 0.44310105 0.42310643 0.43984609\n",
            " 0.45279944 0.46196645 0.45173661 0.45638653 0.44974379 0.44203823\n",
            " 0.43758763 0.42463425 0.42044933 0.40769526 0.39812974 0.42729134\n",
            " 0.42171147 0.40948881 0.42197715 0.43579404 0.43785327 0.43605977\n",
            " 0.44788387 0.45220165 0.45564321 0.45992705 0.46401155 0.46825889\n",
            " 0.47281358 0.47772971 0.48299101 0.48853266 0.49426547 0.50009918\n",
            " 0.50595909 0.51179558 0.51758587 0.52332962 0.52904177 0.5347445\n",
            " 0.54045832 0.54619813 0.55197042 0.55777299 0.56359684 0.56942981\n",
            " 0.57525849 0.58107114 0.58685887 0.59261656]\n",
            "26 day output [[0.5983415]]\n",
            "27 day input [0.61187625 0.58080255 0.53101842 0.52956394 0.53478691 0.55574518\n",
            " 0.55336509 0.55171219 0.54034047 0.54457181 0.5412     0.53372903\n",
            " 0.52070457 0.51733277 0.50701885 0.49730003 0.50536603 0.48506894\n",
            " 0.48454    0.46622633 0.45022667 0.44229293 0.43971449 0.43065678\n",
            " 0.43561532 0.45102004 0.45373073 0.45604466 0.46444126 0.45829259\n",
            " 0.46106937 0.45399516 0.44356609 0.44941165 0.44163968 0.45871149\n",
            " 0.46449072 0.46382645 0.44183892 0.40962167 0.42503284 0.43267199\n",
            " 0.4327384  0.42755707 0.4215786  0.41287659 0.42888562 0.43067916\n",
            " 0.43426626 0.44310105 0.44310105 0.42310643 0.43984609 0.45279944\n",
            " 0.46196645 0.45173661 0.45638653 0.44974379 0.44203823 0.43758763\n",
            " 0.42463425 0.42044933 0.40769526 0.39812974 0.42729134 0.42171147\n",
            " 0.40948881 0.42197715 0.43579404 0.43785327 0.43605977 0.44788387\n",
            " 0.45220165 0.45564321 0.45992705 0.46401155 0.46825889 0.47281358\n",
            " 0.47772971 0.48299101 0.48853266 0.49426547 0.50009918 0.50595909\n",
            " 0.51179558 0.51758587 0.52332962 0.52904177 0.5347445  0.54045832\n",
            " 0.54619813 0.55197042 0.55777299 0.56359684 0.56942981 0.57525849\n",
            " 0.58107114 0.58685887 0.59261656 0.59834152]\n",
            "27 day output [[0.60403347]]\n",
            "28 day input [0.58080255 0.53101842 0.52956394 0.53478691 0.55574518 0.55336509\n",
            " 0.55171219 0.54034047 0.54457181 0.5412     0.53372903 0.52070457\n",
            " 0.51733277 0.50701885 0.49730003 0.50536603 0.48506894 0.48454\n",
            " 0.46622633 0.45022667 0.44229293 0.43971449 0.43065678 0.43561532\n",
            " 0.45102004 0.45373073 0.45604466 0.46444126 0.45829259 0.46106937\n",
            " 0.45399516 0.44356609 0.44941165 0.44163968 0.45871149 0.46449072\n",
            " 0.46382645 0.44183892 0.40962167 0.42503284 0.43267199 0.4327384\n",
            " 0.42755707 0.4215786  0.41287659 0.42888562 0.43067916 0.43426626\n",
            " 0.44310105 0.44310105 0.42310643 0.43984609 0.45279944 0.46196645\n",
            " 0.45173661 0.45638653 0.44974379 0.44203823 0.43758763 0.42463425\n",
            " 0.42044933 0.40769526 0.39812974 0.42729134 0.42171147 0.40948881\n",
            " 0.42197715 0.43579404 0.43785327 0.43605977 0.44788387 0.45220165\n",
            " 0.45564321 0.45992705 0.46401155 0.46825889 0.47281358 0.47772971\n",
            " 0.48299101 0.48853266 0.49426547 0.50009918 0.50595909 0.51179558\n",
            " 0.51758587 0.52332962 0.52904177 0.5347445  0.54045832 0.54619813\n",
            " 0.55197042 0.55777299 0.56359684 0.56942981 0.57525849 0.58107114\n",
            " 0.58685887 0.59261656 0.59834152 0.60403347]\n",
            "28 day output [[0.60969275]]\n",
            "29 day input [0.53101842 0.52956394 0.53478691 0.55574518 0.55336509 0.55171219\n",
            " 0.54034047 0.54457181 0.5412     0.53372903 0.52070457 0.51733277\n",
            " 0.50701885 0.49730003 0.50536603 0.48506894 0.48454    0.46622633\n",
            " 0.45022667 0.44229293 0.43971449 0.43065678 0.43561532 0.45102004\n",
            " 0.45373073 0.45604466 0.46444126 0.45829259 0.46106937 0.45399516\n",
            " 0.44356609 0.44941165 0.44163968 0.45871149 0.46449072 0.46382645\n",
            " 0.44183892 0.40962167 0.42503284 0.43267199 0.4327384  0.42755707\n",
            " 0.4215786  0.41287659 0.42888562 0.43067916 0.43426626 0.44310105\n",
            " 0.44310105 0.42310643 0.43984609 0.45279944 0.46196645 0.45173661\n",
            " 0.45638653 0.44974379 0.44203823 0.43758763 0.42463425 0.42044933\n",
            " 0.40769526 0.39812974 0.42729134 0.42171147 0.40948881 0.42197715\n",
            " 0.43579404 0.43785327 0.43605977 0.44788387 0.45220165 0.45564321\n",
            " 0.45992705 0.46401155 0.46825889 0.47281358 0.47772971 0.48299101\n",
            " 0.48853266 0.49426547 0.50009918 0.50595909 0.51179558 0.51758587\n",
            " 0.52332962 0.52904177 0.5347445  0.54045832 0.54619813 0.55197042\n",
            " 0.55777299 0.56359684 0.56942981 0.57525849 0.58107114 0.58685887\n",
            " 0.59261656 0.59834152 0.60403347 0.60969275]\n",
            "29 day output [[0.61531997]]\n",
            "[[0.4556432068347931], [0.4599270522594452], [0.464011549949646], [0.46825888752937317], [0.47281357645988464], [0.4777297079563141], [0.4829910099506378], [0.4885326623916626], [0.49426546692848206], [0.5000991821289062], [0.5059590935707092], [0.5117955803871155], [0.5175858736038208], [0.5233296155929565], [0.5290417671203613], [0.5347445011138916], [0.5404583215713501], [0.5461981296539307], [0.5519704222679138], [0.5577729940414429], [0.5635968446731567], [0.5694298148155212], [0.5752584934234619], [0.581071138381958], [0.586858868598938], [0.5926165580749512], [0.5983415246009827], [0.6040334701538086], [0.6096927523612976], [0.6153199672698975]]\n"
          ]
        }
      ]
    },
    {
      "cell_type": "code",
      "metadata": {
        "id": "ZU6jAHV7tzIz"
      },
      "source": [
        "day_new=np.arange(1,time_step+1)\n",
        "day_pred=np.arange(time_step+1,time_step+1+30)"
      ],
      "execution_count": null,
      "outputs": []
    },
    {
      "cell_type": "code",
      "metadata": {
        "colab": {
          "base_uri": "https://localhost:8080/"
        },
        "id": "9CmtKUnPtzIz",
        "outputId": "945ef83d-825c-4a54-d084-765ec99435f8"
      },
      "source": [
        "len(df1)"
      ],
      "execution_count": null,
      "outputs": [
        {
          "output_type": "execute_result",
          "data": {
            "text/plain": [
              "1234"
            ]
          },
          "metadata": {},
          "execution_count": 509
        }
      ]
    },
    {
      "cell_type": "code",
      "metadata": {
        "id": "_DlaWrqCtzIz",
        "colab": {
          "base_uri": "https://localhost:8080/"
        },
        "outputId": "85232b1d-6f15-4dc7-9297-a24b975e646b"
      },
      "source": [
        "s2 = len(df1)-time_step\n",
        "s2"
      ],
      "execution_count": null,
      "outputs": [
        {
          "output_type": "execute_result",
          "data": {
            "text/plain": [
              "1134"
            ]
          },
          "metadata": {},
          "execution_count": 510
        }
      ]
    },
    {
      "cell_type": "code",
      "metadata": {
        "colab": {
          "base_uri": "https://localhost:8080/",
          "height": 282
        },
        "id": "BIPdWLaztzIz",
        "outputId": "dc024ba5-b395-4900-c440-5b15932017b0"
      },
      "source": [
        "plt.plot(day_new,scaler.inverse_transform(df1[s2:]))\n",
        "plt.plot(day_pred,scaler.inverse_transform(lst_output))"
      ],
      "execution_count": null,
      "outputs": [
        {
          "output_type": "execute_result",
          "data": {
            "text/plain": [
              "[<matplotlib.lines.Line2D at 0x7effef2d5910>]"
            ]
          },
          "metadata": {},
          "execution_count": 511
        },
        {
          "output_type": "display_data",
          "data": {
            "image/png": "[encoded data removed]",
            "text/plain": [
              "<Figure size 432x288 with 1 Axes>"
            ]
          },
          "metadata": {
            "needs_background": "light"
          }
        }
      ]
    },
    {
      "cell_type": "code",
      "metadata": {
        "id": "lXrcjOJNtzI0"
      },
      "source": [
        "df3=df1.tolist()\n",
        "df3.extend(lst_output)\n",
        "# plt.plot(df3[1200:])"
      ],
      "execution_count": null,
      "outputs": []
    },
    {
      "cell_type": "code",
      "metadata": {
        "id": "l4L5y2iptzI0"
      },
      "source": [
        "df3=scaler.inverse_transform(df3).tolist()"
      ],
      "execution_count": null,
      "outputs": []
    },
    {
      "cell_type": "code",
      "metadata": {
        "colab": {
          "base_uri": "https://localhost:8080/",
          "height": 391
        },
        "id": "gr7RDH85tzI0",
        "outputId": "3cfbf0c9-7d60-4d2f-a6af-cbfabca42def"
      },
      "source": [
        "plt.figure(figsize=(20,6))\n",
        "plt.plot(df3)\n",
        "# plt.plot(day_pred,scaler.inverse_transform(lst_output))\n",
        "# plt.plot(day_new,scaler.inverse_transform(df1[1135:]))"
      ],
      "execution_count": null,
      "outputs": [
        {
          "output_type": "execute_result",
          "data": {
            "text/plain": [
              "[<matplotlib.lines.Line2D at 0x7effe2aed750>]"
            ]
          },
          "metadata": {},
          "execution_count": 360
        },
        {
          "output_type": "display_data",
          "data": {
            "image/png": "[encoded data removed]",
            "text/plain": [
              "<Figure size 1440x432 with 1 Axes>"
            ]
          },
          "metadata": {
            "needs_background": "light"
          }
        }
      ]
    },
    {
      "cell_type": "code",
      "metadata": {
        "id": "ghXjPh1Wz6ha"
      },
      "source": [
        "# df_close = df[['Close']].reset_index(drop=True)"
      ],
      "execution_count": null,
      "outputs": []
    },
    {
      "cell_type": "code",
      "metadata": {
        "id": "D_SlIqjctzI0"
      },
      "source": [
        "# plt.figure(figsize=(20,6))\n",
        "# plt.plot(df[['Close']])\n",
        "# # plt.plot(tr['pred'], label='train')\n",
        "# plt.plot(day_pred,scaler.inverse_transform(lst_output), label='test')\n",
        "# plt.legend()"
      ],
      "execution_count": null,
      "outputs": []
    },
    {
      "cell_type": "code",
      "metadata": {
        "colab": {
          "base_uri": "https://localhost:8080/"
        },
        "id": "Mw-x-pPSzHgU",
        "outputId": "5a9c0770-2496-486d-cf9b-447ab8410e03"
      },
      "source": [
        "scaler.inverse_transform(lst_output[:5])"
      ],
      "execution_count": null,
      "outputs": [
        {
          "output_type": "execute_result",
          "data": {
            "text/plain": [
              "array([[519.12496731],\n",
              "       [515.24693291],\n",
              "       [513.29225843],\n",
              "       [513.30878998],\n",
              "       [514.62786258]])"
            ]
          },
          "metadata": {},
          "execution_count": 363
        }
      ]
    },
    {
      "cell_type": "code",
      "metadata": {
        "id": "wnXYZCxK0tHn"
      },
      "source": [
        ""
      ],
      "execution_count": null,
      "outputs": []
    }
  ]
}